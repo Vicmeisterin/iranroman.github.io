{
 "cells": [
  {
   "cell_type": "code",
   "execution_count": 22,
   "metadata": {
    "collapsed": true
   },
   "outputs": [],
   "source": [
    "\"This demo shows how to do K-Means Clustering\"\n",
    "\"on the CIFAR-10 dataset.\"\n",
    "\n",
    "%matplotlib inline\n",
    "\n",
    "# Numpy is a python library for scientific computing\n",
    "import numpy as np\n",
    "# library allowing us to handle serialization in python\n",
    "import cPickle as pickle\n",
    "# library that allows us to write shell commands in python\n",
    "import os\n",
    "# library to generate plots\n",
    "import matplotlib\n",
    "import matplotlib.pyplot as plt"
   ]
  },
  {
   "cell_type": "code",
   "execution_count": 23,
   "metadata": {
    "collapsed": false
   },
   "outputs": [
    {
     "name": "stdout",
     "output_type": "stream",
     "text": [
      "Training data shape:  (50000, 3072)\n",
      "Training labels shape:  (50000,)\n",
      "Test data shape:  (10000, 3072)\n",
      "Test labels shape:  (10000,)\n"
     ]
    }
   ],
   "source": [
    "\n",
    "\"\"\" load all of cifar \"\"\"\n",
    "xs = []\n",
    "ys = []\n",
    "for b in range(1,6):\n",
    "    filename = os.path.join('cifar-10-batches-py/data_batch_%d' % (b, ))\n",
    "    with open(filename, 'rb') as f:\n",
    "        datadict = pickle.load(f)\n",
    "        X = datadict['data']\n",
    "        Y = datadict['labels']\n",
    "        X = np.array(X)\n",
    "        Y = np.array(Y)\n",
    "    xs.append(X)\n",
    "    ys.append(Y)    \n",
    "    Xtr = np.concatenate(xs)\n",
    "    Ytr = np.concatenate(ys)\n",
    "    del X, Y\n",
    "with open('cifar-10-batches-py/test_batch', 'rb') as f:\n",
    "    datadict = pickle.load(f)\n",
    "    X = datadict['data']\n",
    "    Y = datadict['labels']\n",
    "    Xte = np.array(X)\n",
    "    Yte = np.array(Y)\n",
    "    \n",
    "print 'Training data shape: ', Xtr.shape\n",
    "print 'Training labels shape: ', Ytr.shape\n",
    "print 'Test data shape: ', Xte.shape\n",
    "print 'Test labels shape: ', Yte.shape"
   ]
  },
  {
   "cell_type": "code",
   "execution_count": 24,
   "metadata": {
    "collapsed": false
   },
   "outputs": [],
   "source": [
    "# subsample the traning data\n",
    "num_training = 1000\n",
    "\n",
    "# create a list of numbers\n",
    "num_range = range(num_training)\n",
    "\n",
    "# access the data to get only the first 1000 examples\n",
    "X_train = Xtr[num_range]\n",
    "y_train = Ytr[num_range]\n",
    "\n",
    "num_test = 100\n",
    "\n",
    "# create a list of numbers (again)\n",
    "num_range = range(num_test)\n",
    "\n",
    "X_test = Xte[num_range]\n",
    "y_test = Yte[num_range]\n"
   ]
  },
  {
   "cell_type": "code",
   "execution_count": 25,
   "metadata": {
    "collapsed": true
   },
   "outputs": [],
   "source": [
    "# We import the class you have written. Make sure this Jupyter notebook and the\n",
    "# file where you wrote your class are in the same folder\n",
    "import KNN"
   ]
  },
  {
   "cell_type": "code",
   "execution_count": 26,
   "metadata": {
    "collapsed": true
   },
   "outputs": [],
   "source": [
    "# test the performance of your KNN class by running these commands.\n",
    "\n",
    "# Initialize the algorithm\n",
    "algo = KNN.KNN()\n",
    "\n",
    "# train the algorithm\n",
    "algo.train(X_train, y_train)\n",
    "\n",
    "# compute the distance matrix\n",
    "dist = algo.compute_distances(X_test, L=1)\n",
    "# change the L=1 argument for L=2 to test L1 and L2 distances\n",
    "\n",
    "# find the predicted labels\n",
    "y_pred = algo.predict_labels(dist,k=1)\n",
    "# try different values of k. Which one is the best_one?"
   ]
  },
  {
   "cell_type": "code",
   "execution_count": 27,
   "metadata": {
    "collapsed": false
   },
   "outputs": [
    {
     "name": "stdout",
     "output_type": "stream",
     "text": [
      " Accuracy was: 24\n"
     ]
    }
   ],
   "source": [
    "# calculate the accuracy \n",
    "\n",
    "accuracy = np.sum(y_pred == y_test) *100 / num_test\n",
    "\n",
    "print ' Accuracy was:', accuracy"
   ]
  },
  {
   "cell_type": "code",
   "execution_count": null,
   "metadata": {
    "collapsed": true
   },
   "outputs": [],
   "source": [
    "# TODO:\n",
    "# Modify the cross validation we wrote in class so that it now \n",
    "# uses the methods in the KNN class you wrote."
   ]
  }
 ],
 "metadata": {
  "kernelspec": {
   "display_name": "Python 2",
   "language": "python",
   "name": "python2"
  },
  "language_info": {
   "codemirror_mode": {
    "name": "ipython",
    "version": 2
   },
   "file_extension": ".py",
   "mimetype": "text/x-python",
   "name": "python",
   "nbconvert_exporter": "python",
   "pygments_lexer": "ipython2",
   "version": "2.7.11"
  }
 },
 "nbformat": 4,
 "nbformat_minor": 0
}
