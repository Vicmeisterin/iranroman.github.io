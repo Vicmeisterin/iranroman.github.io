{
 "cells": [
  {
   "cell_type": "code",
   "execution_count": 1,
   "metadata": {
    "collapsed": true
   },
   "outputs": [],
   "source": [
    "\"This demo shows how to do K-Means Clustering\"\n",
    "\"on the CIFAR-10 dataset.\"\n",
    "\n",
    "# Numpy is a python library for scientific computing\n",
    "import numpy as np\n",
    "# library allowing us to handle serialization in python\n",
    "import cPickle as pickle\n",
    "# library that allows us to write shell commands in python\n",
    "import os"
   ]
  },
  {
   "cell_type": "code",
   "execution_count": 10,
   "metadata": {
    "collapsed": false
   },
   "outputs": [
    {
     "ename": "SyntaxError",
     "evalue": "invalid syntax (<ipython-input-10-6a812805c7b6>, line 14)",
     "output_type": "error",
     "traceback": [
      "\u001b[0;36m  File \u001b[0;32m\"<ipython-input-10-6a812805c7b6>\"\u001b[0;36m, line \u001b[0;32m14\u001b[0m\n\u001b[0;31m    print(\"Key No. \" key_num \" is \" key)\u001b[0m\n\u001b[0m                           ^\u001b[0m\n\u001b[0;31mSyntaxError\u001b[0m\u001b[0;31m:\u001b[0m invalid syntax\n"
     ]
    }
   ],
   "source": [
    "# First, download the CIFAR-10 data\n",
    "os.system('wget http://www.cs.toronto.edu/~kriz/cifar-10-python.tar.gz')\n",
    "os.system('tar -xzvf cifar-10-python.tar.gz')\n",
    "\n",
    "# and load a batch \n",
    "filename = 'cifar-10-batches-py/data_batch_1'\n",
    "with open(filename,'rb') as file:\n",
    "    data_dict = pickle.load(file)"
   ]
  },
  {
   "cell_type": "code",
   "execution_count": 14,
   "metadata": {
    "collapsed": false
   },
   "outputs": [
    {
     "name": "stdout",
     "output_type": "stream",
     "text": [
      "Key No. 0 is data\n",
      "Key No. 1 is labels\n",
      "Key No. 2 is batch_label\n",
      "Key No. 3 is filenames\n"
     ]
    }
   ],
   "source": [
    "# So, what do we get in this dictionary?\n",
    "key_num = 1\n",
    "for key in data_dict:\n",
    "    print('Key No. '+ str(key_num) + ' is ' + str(key))\n",
    "    key_num += 1"
   ]
  },
  {
   "cell_type": "code",
   "execution_count": null,
   "metadata": {
    "collapsed": true
   },
   "outputs": [],
   "source": []
  },
  {
   "cell_type": "code",
   "execution_count": null,
   "metadata": {
    "collapsed": true
   },
   "outputs": [],
   "source": []
  }
 ],
 "metadata": {
  "kernelspec": {
   "display_name": "Python 2",
   "language": "python",
   "name": "python2"
  },
  "language_info": {
   "codemirror_mode": {
    "name": "ipython",
    "version": 2
   },
   "file_extension": ".py",
   "mimetype": "text/x-python",
   "name": "python",
   "nbconvert_exporter": "python",
   "pygments_lexer": "ipython2",
   "version": "2.7.11"
  }
 },
 "nbformat": 4,
 "nbformat_minor": 0
}
