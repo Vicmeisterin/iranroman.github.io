{
 "cells": [
  {
   "cell_type": "code",
   "execution_count": 24,
   "metadata": {
    "collapsed": true
   },
   "outputs": [],
   "source": [
    "\"This demo shows how to do K-Means Clustering\"\n",
    "\"on the CIFAR-10 dataset.\"\n",
    "\n",
    "%matplotlib inline\n",
    "\n",
    "# Numpy is a python library for scientific computing\n",
    "import numpy as np\n",
    "# library allowing us to handle serialization in python\n",
    "import cPickle as pickle\n",
    "# library that allows us to write shell commands in python\n",
    "import os\n",
    "# library to generate plots\n",
    "import matplotlib\n",
    "import matplotlib.pyplot as plt"
   ]
  },
  {
   "cell_type": "code",
   "execution_count": 25,
   "metadata": {
    "collapsed": false
   },
   "outputs": [
    {
     "name": "stdout",
     "output_type": "stream",
     "text": [
      "Training data shape:  (50000, 32, 32, 3)\n",
      "Training labels shape:  (50000,)\n",
      "Test data shape:  (10000, 32, 32, 3)\n",
      "Test labels shape:  (10000,)\n"
     ]
    }
   ],
   "source": [
    "\n",
    "\"\"\" load all of cifar \"\"\"\n",
    "xs = []\n",
    "ys = []\n",
    "for b in range(1,6):\n",
    "    filename = os.path.join('cifar-10-batches-py/data_batch_%d' % (b, ))\n",
    "    with open(filename, 'rb') as f:\n",
    "        datadict = pickle.load(f)\n",
    "        X = datadict['data']\n",
    "        Y = datadict['labels']\n",
    "        X = X.reshape(10000, 3, 32, 32).transpose(0,2,3,1).astype(\"float\")\n",
    "        Y = np.array(Y)\n",
    "    xs.append(X)\n",
    "    ys.append(Y)    \n",
    "    Xtr = np.concatenate(xs)\n",
    "    Ytr = np.concatenate(ys)\n",
    "    del X, Y\n",
    "with open('cifar-10-batches-py/test_batch', 'rb') as f:\n",
    "    datadict = pickle.load(f)\n",
    "    X = datadict['data']\n",
    "    Y = datadict['labels']\n",
    "    Xte = X.reshape(10000, 3, 32, 32).transpose(0,2,3,1).astype(\"float\")\n",
    "    Yte = np.array(Y)\n",
    "    \n",
    "print 'Training data shape: ', Xtr.shape\n",
    "print 'Training labels shape: ', Ytr.shape\n",
    "print 'Test data shape: ', Xte.shape\n",
    "print 'Test labels shape: ', Yte.shape"
   ]
  },
  {
   "cell_type": "code",
   "execution_count": 48,
   "metadata": {
    "collapsed": false
   },
   "outputs": [
    {
     "name": "stdout",
     "output_type": "stream",
     "text": [
      "(1000, 3072) (100, 3072)\n"
     ]
    }
   ],
   "source": [
    "# Now we train our model with only a K nearests neighbors\n",
    "\n",
    "k = 20\n",
    "\n",
    "# Subsample the data for more efficient code execution in this exercise\n",
    "num_training = 1000\n",
    "mask = range(num_training)\n",
    "X_train = Xtr[mask]\n",
    "y_train = Ytr[mask]\n",
    "\n",
    "num_test = 100\n",
    "mask = range(num_test)\n",
    "X_test = Xte[mask]\n",
    "y_test = Yte[mask]\n",
    "\n",
    "# Reshape the image data into rows\n",
    "train_data = np.reshape(X_train, (X_train.shape[0], -1))\n",
    "test_data = np.reshape(X_test, (X_test.shape[0], -1))\n",
    "print train_data.shape, test_data.shape\n",
    "\n",
    "dists = np.zeros((num_test, num_training))\n",
    "\n",
    "for i in xrange(num_test):\n",
    "  for j in xrange(num_training):\n",
    "    \n",
    "    #####################################################################\n",
    "    # TODO:                                                             #\n",
    "    # Implement the L2 distance that we discusses in class by           #\n",
    "    # substituting the currently used L1 distance                       #\n",
    "    #####################################################################\n",
    "\n",
    "    dists[i,j] = np.sum(np.abs(train_data[j,:] - test_data[i,:]))\n",
    "\n",
    "\n",
    "  #######################################################################\n",
    "  #                         END OF YOUR CODE                            #\n",
    "  #######################################################################\n",
    "    \n",
    "y_pred = np.zeros(num_test)\n",
    "for i in xrange(num_test):\n",
    "    \n",
    "      dists_i_row_sorted=np.argsort(dists[i,:]) \n",
    "      k_closest_labels=y_train[dists_i_row_sorted[:k]]   \n",
    "      \n",
    "      # count the number of times each label is repeated for the k closest training points\n",
    "      arr_w_k_incidences = np.bincount(k_closest_labels)\n",
    "      # find the most repeating label, or the smaller label to break ties\n",
    "      y_pred[i]=np.argmax(arr_w_k_incidences)"
   ]
  },
  {
   "cell_type": "code",
   "execution_count": 49,
   "metadata": {
    "collapsed": false
   },
   "outputs": [
    {
     "name": "stdout",
     "output_type": "stream",
     "text": [
      "25\n"
     ]
    }
   ],
   "source": [
    "    print(sum(y_pred.astype(int) == y_test) *100 /num_test)"
   ]
  },
  {
   "cell_type": "code",
   "execution_count": 57,
   "metadata": {
    "collapsed": false
   },
   "outputs": [
    {
     "name": "stdout",
     "output_type": "stream",
     "text": [
      "evaluating k=1\n",
      "(40000, 3072)\n",
      "(10000, 3072)\n",
      "(40000, 3072)\n",
      "(10000, 3072)\n",
      "(40000, 3072)\n",
      "(10000, 3072)\n"
     ]
    },
    {
     "ename": "KeyboardInterrupt",
     "evalue": "",
     "output_type": "error",
     "traceback": [
      "\u001b[0;31m---------------------------------------------------------------------------\u001b[0m",
      "\u001b[0;31mKeyboardInterrupt\u001b[0m                         Traceback (most recent call last)",
      "\u001b[0;32m<ipython-input-57-fb46ec3ac51b>\u001b[0m in \u001b[0;36m<module>\u001b[0;34m()\u001b[0m\n\u001b[1;32m     74\u001b[0m             \u001b[0;31m#####################################################################\u001b[0m\u001b[0;34m\u001b[0m\u001b[0;34m\u001b[0m\u001b[0m\n\u001b[1;32m     75\u001b[0m \u001b[0;34m\u001b[0m\u001b[0m\n\u001b[0;32m---> 76\u001b[0;31m             \u001b[0mdists\u001b[0m\u001b[0;34m[\u001b[0m\u001b[0mi\u001b[0m\u001b[0;34m,\u001b[0m\u001b[0mj\u001b[0m\u001b[0;34m]\u001b[0m \u001b[0;34m=\u001b[0m \u001b[0mnp\u001b[0m\u001b[0;34m.\u001b[0m\u001b[0msum\u001b[0m\u001b[0;34m(\u001b[0m\u001b[0mnp\u001b[0m\u001b[0;34m.\u001b[0m\u001b[0mabs\u001b[0m\u001b[0;34m(\u001b[0m\u001b[0mX_train_cv\u001b[0m\u001b[0;34m[\u001b[0m\u001b[0mj\u001b[0m\u001b[0;34m,\u001b[0m\u001b[0;34m:\u001b[0m\u001b[0;34m]\u001b[0m \u001b[0;34m-\u001b[0m \u001b[0mX_test_cv\u001b[0m\u001b[0;34m[\u001b[0m\u001b[0mi\u001b[0m\u001b[0;34m,\u001b[0m\u001b[0;34m:\u001b[0m\u001b[0;34m]\u001b[0m\u001b[0;34m)\u001b[0m\u001b[0;34m)\u001b[0m\u001b[0;34m\u001b[0m\u001b[0m\n\u001b[0m\u001b[1;32m     77\u001b[0m \u001b[0;34m\u001b[0m\u001b[0m\n\u001b[1;32m     78\u001b[0m \u001b[0;34m\u001b[0m\u001b[0m\n",
      "\u001b[0;32m/Users/iranroman/anaconda/lib/python2.7/site-packages/numpy/core/fromnumeric.pyc\u001b[0m in \u001b[0;36msum\u001b[0;34m(a, axis, dtype, out, keepdims)\u001b[0m\n\u001b[1;32m   1838\u001b[0m     \u001b[0;32melse\u001b[0m\u001b[0;34m:\u001b[0m\u001b[0;34m\u001b[0m\u001b[0m\n\u001b[1;32m   1839\u001b[0m         return _methods._sum(a, axis=axis, dtype=dtype,\n\u001b[0;32m-> 1840\u001b[0;31m                              out=out, keepdims=keepdims)\n\u001b[0m\u001b[1;32m   1841\u001b[0m \u001b[0;34m\u001b[0m\u001b[0m\n\u001b[1;32m   1842\u001b[0m \u001b[0;34m\u001b[0m\u001b[0m\n",
      "\u001b[0;32m/Users/iranroman/anaconda/lib/python2.7/site-packages/numpy/core/_methods.pyc\u001b[0m in \u001b[0;36m_sum\u001b[0;34m(a, axis, dtype, out, keepdims)\u001b[0m\n\u001b[1;32m     30\u001b[0m \u001b[0;34m\u001b[0m\u001b[0m\n\u001b[1;32m     31\u001b[0m \u001b[0;32mdef\u001b[0m \u001b[0m_sum\u001b[0m\u001b[0;34m(\u001b[0m\u001b[0ma\u001b[0m\u001b[0;34m,\u001b[0m \u001b[0maxis\u001b[0m\u001b[0;34m=\u001b[0m\u001b[0mNone\u001b[0m\u001b[0;34m,\u001b[0m \u001b[0mdtype\u001b[0m\u001b[0;34m=\u001b[0m\u001b[0mNone\u001b[0m\u001b[0;34m,\u001b[0m \u001b[0mout\u001b[0m\u001b[0;34m=\u001b[0m\u001b[0mNone\u001b[0m\u001b[0;34m,\u001b[0m \u001b[0mkeepdims\u001b[0m\u001b[0;34m=\u001b[0m\u001b[0mFalse\u001b[0m\u001b[0;34m)\u001b[0m\u001b[0;34m:\u001b[0m\u001b[0;34m\u001b[0m\u001b[0m\n\u001b[0;32m---> 32\u001b[0;31m     \u001b[0;32mreturn\u001b[0m \u001b[0mumr_sum\u001b[0m\u001b[0;34m(\u001b[0m\u001b[0ma\u001b[0m\u001b[0;34m,\u001b[0m \u001b[0maxis\u001b[0m\u001b[0;34m,\u001b[0m \u001b[0mdtype\u001b[0m\u001b[0;34m,\u001b[0m \u001b[0mout\u001b[0m\u001b[0;34m,\u001b[0m \u001b[0mkeepdims\u001b[0m\u001b[0;34m)\u001b[0m\u001b[0;34m\u001b[0m\u001b[0m\n\u001b[0m\u001b[1;32m     33\u001b[0m \u001b[0;34m\u001b[0m\u001b[0m\n\u001b[1;32m     34\u001b[0m \u001b[0;32mdef\u001b[0m \u001b[0m_prod\u001b[0m\u001b[0;34m(\u001b[0m\u001b[0ma\u001b[0m\u001b[0;34m,\u001b[0m \u001b[0maxis\u001b[0m\u001b[0;34m=\u001b[0m\u001b[0mNone\u001b[0m\u001b[0;34m,\u001b[0m \u001b[0mdtype\u001b[0m\u001b[0;34m=\u001b[0m\u001b[0mNone\u001b[0m\u001b[0;34m,\u001b[0m \u001b[0mout\u001b[0m\u001b[0;34m=\u001b[0m\u001b[0mNone\u001b[0m\u001b[0;34m,\u001b[0m \u001b[0mkeepdims\u001b[0m\u001b[0;34m=\u001b[0m\u001b[0mFalse\u001b[0m\u001b[0;34m)\u001b[0m\u001b[0;34m:\u001b[0m\u001b[0;34m\u001b[0m\u001b[0m\n",
      "\u001b[0;31mKeyboardInterrupt\u001b[0m: "
     ]
    }
   ],
   "source": [
    "# We will now implement cross validation on the cifar-10 dataset\n",
    "\n",
    "num_folds = 5\n",
    "k_choices = [1, 3, 5, 8, 10, 12, 15, 20, 50, 100]\n",
    "\n",
    "X_train_folds = []\n",
    "y_train_folds = []\n",
    "################################################################################\n",
    "# Split up the training data into folds. After splitting, X_train_folds and    #\n",
    "# y_train_folds should each be lists of length num_folds, where                #\n",
    "# y_train_folds[i] is the label vector for the points in X_train_folds[i].     #\n",
    "# Hint: Look up the numpy array_split function.                                #\n",
    "################################################################################\n",
    "X_train_folds = np.array_split(Xtr, num_folds)\n",
    "y_train_folds = np.array_split(Ytr, num_folds)\n",
    "\n",
    "# print y_train_folds\n",
    "\n",
    "# A dictionary holding the accuracies for different values of k that we find\n",
    "# when running cross-validation. After running cross-validation,\n",
    "# k_to_accuracies[k] should be a list of length num_folds giving the different\n",
    "# accuracy values that we found when using that value of k.\n",
    "k_to_accuracies = {}\n",
    "\n",
    "################################################################################\n",
    "# Perform k-fold cross validation to find the best value of k. For each        #\n",
    "# possible value of k, run the k-nearest-neighbor algorithm num_folds times,   #\n",
    "# where in each case you use all but one of the folds as training data and the #\n",
    "# last fold as a validation set. Store the accuracies for all fold and all     #\n",
    "# values of k in the k_to_accuracies dictionary.                               #\n",
    "################################################################################\n",
    "\n",
    "for k in k_choices:\n",
    "    k_to_accuracies[k] = []\n",
    "\n",
    "for k in k_choices:\n",
    "    print 'evaluating k=%d' % k\n",
    "    for j in range(num_folds):\n",
    "        X_train_cv = np.vstack(X_train_folds[0:j]+X_train_folds[j+1:])\n",
    "        X_test_cv = X_train_folds[j]\n",
    "        \n",
    "        #print len(y_train_folds), y_train_folds[0].shape\n",
    "        \n",
    "        y_train_cv = np.hstack(y_train_folds[0:j]+y_train_folds[j+1:])\n",
    "        y_test_cv = y_train_folds[j]\n",
    "        \n",
    "#         #print 'Training data shape: ', X_train_cv.shape\n",
    "#         #print 'Training labels shape: ', y_train_cv.shape\n",
    "#         #print 'Test data shape: ', X_test_cv.shape\n",
    "#         #print 'Test labels shape: ', y_test_cv.shape\n",
    "        \n",
    "#         classifier.train(X_train_cv, y_train_cv)\n",
    "#         dists_cv = classifier.compute_distances_no_loops(X_test_cv)\n",
    "#         #print 'predicting now'\n",
    "#         y_test_pred = classifier.predict_labels(dists_cv, k)\n",
    "\n",
    "        X_train_cv = np.reshape(X_train_cv, (X_train_cv.shape[0], -1))\n",
    "        X_test_cv = np.reshape(X_test_cv, (X_test_cv.shape[0], -1))\n",
    "\n",
    "        print(X_train_cv.shape)\n",
    "        print(X_test_cv.shape)\n",
    "        num_train = X_train_cv.shape[0]\n",
    "        num_test = X_test_cv.shape[0]\n",
    "        \n",
    "        dists = np.zeros((num_test, num_training))\n",
    "\n",
    "        for i in xrange(num_test):\n",
    "          for j in xrange(num_training):\n",
    "\n",
    "            #####################################################################\n",
    "            # TODO:                                                             #\n",
    "            # Implement the L2 distance that we discusses in class by           #\n",
    "            # substituting the currently used L1 distance                       #\n",
    "            #####################################################################\n",
    "\n",
    "            dists[i,j] = np.sum(np.abs(X_train_cv[j,:] - X_test_cv[i,:]))\n",
    "\n",
    "\n",
    "          #######################################################################\n",
    "          #                         END OF YOUR CODE                            #\n",
    "          #######################################################################\n",
    "\n",
    "        y_pred = np.zeros(num_test)\n",
    "        for i in xrange(num_test):\n",
    "\n",
    "              dists_i_row_sorted=np.argsort(dists[i,:]) \n",
    "              k_closest_labels=y_train_cv[dists_i_row_sorted[:k]]   \n",
    "\n",
    "              # count the number of times each label is repeated for the k closest training points\n",
    "              arr_w_k_incidences = np.bincount(k_closest_labels)\n",
    "              # find the most repeating label, or the smaller label to break ties\n",
    "              y_pred[i]=np.argmax(arr_w_k_incidences)\n",
    "\n",
    "\n",
    "\n",
    "        num_correct = np.sum(y_pred == y_test_cv)\n",
    "        accuracy = float(num_correct) / num_test\n",
    "        \n",
    "        k_to_accuracies[k].append(accuracy)\n",
    "\n",
    "################################################################################\n",
    "#                                 END OF YOUR CODE                             #\n",
    "################################################################################\n",
    "\n",
    "# Print out the computed accuracies\n",
    "for k in sorted(k_to_accuracies):\n",
    "    for accuracy in k_to_accuracies[k]:\n",
    "        print 'k = %d, accuracy = %f' % (k, accuracy)"
   ]
  },
  {
   "cell_type": "code",
   "execution_count": null,
   "metadata": {
    "collapsed": true
   },
   "outputs": [],
   "source": [
    "# plot the raw observations\n",
    "for k in k_choices:\n",
    "  accuracies = k_to_accuracies[k]\n",
    "  plt.scatter([k] * len(accuracies), accuracies)\n",
    "\n",
    "# plot the trend line with error bars that correspond to standard deviation\n",
    "accuracies_mean = np.array([np.mean(v) for k,v in sorted(k_to_accuracies.items())])\n",
    "accuracies_std = np.array([np.std(v) for k,v in sorted(k_to_accuracies.items())])\n",
    "plt.errorbar(k_choices, accuracies_mean, yerr=accuracies_std)\n",
    "plt.title('Cross-validation on k')\n",
    "plt.xlabel('k')\n",
    "plt.ylabel('Cross-validation accuracy')\n",
    "plt.show()"
   ]
  }
 ],
 "metadata": {
  "kernelspec": {
   "display_name": "Python 2",
   "language": "python",
   "name": "python2"
  },
  "language_info": {
   "codemirror_mode": {
    "name": "ipython",
    "version": 2
   },
   "file_extension": ".py",
   "mimetype": "text/x-python",
   "name": "python",
   "nbconvert_exporter": "python",
   "pygments_lexer": "ipython2",
   "version": "2.7.11"
  }
 },
 "nbformat": 4,
 "nbformat_minor": 0
}
