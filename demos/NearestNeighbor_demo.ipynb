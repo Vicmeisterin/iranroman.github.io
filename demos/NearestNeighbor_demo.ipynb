{
 "cells": [
  {
   "cell_type": "code",
   "execution_count": 1,
   "metadata": {
    "collapsed": true
   },
   "outputs": [],
   "source": [
    "\"This demos shows how to do a Nearest Neighbor Classifier\"\n",
    "\"on the CIFAR-10 dataset.\"\n",
    "\n",
    "# command to let jupyter plot things inline\n",
    "%matplotlib inline\n",
    "\n",
    "# Numpy is a python library for scientific computing\n",
    "import numpy as np\n",
    "# library allowing us to handle serialization in python\n",
    "import cPickle as pickle\n",
    "# library that allows us to write shell commands in python\n",
    "import os\n",
    "# library to generate plots, works as matlab, but needs to be called in the \"plt\" alias\n",
    "import matplotlib.pyplot as plt"
   ]
  },
  {
   "cell_type": "code",
   "execution_count": 2,
   "metadata": {
    "collapsed": false
   },
   "outputs": [
    {
     "data": {
      "text/plain": [
       "0"
      ]
     },
     "execution_count": 2,
     "metadata": {},
     "output_type": "execute_result"
    }
   ],
   "source": [
    "# # first, download and unpack the CIFAR-10 data, using the os library and terminal commands\n",
    "os.system('wget http://www.cs.toronto.edu/~kriz/cifar-10-python.tar.gz')\n",
    "os.system('tar -xzvf cifar-10-python.tar.gz')"
   ]
  },
  {
   "cell_type": "code",
   "execution_count": 4,
   "metadata": {
    "collapsed": false
   },
   "outputs": [],
   "source": [
    "filename = 'cifar-10-batches-py/data_batch_1'\n",
    "\n",
    "with open(filename, 'rb') as f:\n",
    "    datadict = pickle.load(f)\n",
    "\n",
    "data = datadict['data']\n",
    "print(data.shape)"
   ]
  },
  {
   "cell_type": "code",
   "execution_count": null,
   "metadata": {
    "collapsed": true
   },
   "outputs": [],
   "source": []
  }
 ],
 "metadata": {
  "kernelspec": {
   "display_name": "Python 2",
   "language": "python",
   "name": "python2"
  },
  "language_info": {
   "codemirror_mode": {
    "name": "ipython",
    "version": 2
   },
   "file_extension": ".py",
   "mimetype": "text/x-python",
   "name": "python",
   "nbconvert_exporter": "python",
   "pygments_lexer": "ipython2",
   "version": "2.7.11"
  }
 },
 "nbformat": 4,
 "nbformat_minor": 0
}
