{
 "cells": [
  {
   "cell_type": "code",
   "execution_count": 1,
   "metadata": {
    "collapsed": true
   },
   "outputs": [],
   "source": [
    "\"This demo shows how to do K-Means Clustering\"\n",
    "\"on the CIFAR-10 dataset.\"\n",
    "\n",
    "%matplotlib inline\n",
    "\n",
    "# Numpy is a python library for scientific computing\n",
    "import numpy as np\n",
    "# library allowing us to handle serialization in python\n",
    "import cPickle as pickle\n",
    "# library that allows us to write shell commands in python\n",
    "import os\n",
    "# library to generate plots\n",
    "import matplotlib\n",
    "import matplotlib.pyplot as plt"
   ]
  },
  {
   "cell_type": "code",
   "execution_count": 2,
   "metadata": {
    "collapsed": false
   },
   "outputs": [
    {
     "name": "stdout",
     "output_type": "stream",
     "text": [
      "Training data shape:  (50000, 32, 32, 3)\n",
      "Training labels shape:  (50000,)\n",
      "Test data shape:  (10000, 32, 32, 3)\n",
      "Test labels shape:  (10000,)\n"
     ]
    }
   ],
   "source": [
    "# # First, download the CIFAR-10 data\n",
    "# os.system('wget http://www.cs.toronto.edu/~kriz/cifar-10-python.tar.gz')\n",
    "# os.system('tar -xzvf cifar-10-python.tar.gz')\n",
    "\n",
    "\n",
    "\"\"\" load all of cifar \"\"\"\n",
    "xs = []\n",
    "ys = []\n",
    "for b in range(1,6):\n",
    "    filename = os.path.join('cifar-10-batches-py/data_batch_%d' % (b, ))\n",
    "    with open(filename, 'rb') as f:\n",
    "        datadict = pickle.load(f)\n",
    "        X = datadict['data']\n",
    "        Y = datadict['labels']\n",
    "        X = X.reshape(10000, 3, 32, 32).transpose(0,2,3,1).astype(\"float\")\n",
    "        Y = np.array(Y)\n",
    "    xs.append(X)\n",
    "    ys.append(Y)    \n",
    "    Xtr = np.concatenate(xs)\n",
    "    Ytr = np.concatenate(ys)\n",
    "    del X, Y\n",
    "with open('cifar-10-batches-py/test_batch', 'rb') as f:\n",
    "    datadict = pickle.load(f)\n",
    "    X = datadict['data']\n",
    "    Y = datadict['labels']\n",
    "    Xte = X.reshape(10000, 3, 32, 32).transpose(0,2,3,1).astype(\"float\")\n",
    "    Yte = np.array(Y)\n",
    "    \n",
    "print 'Training data shape: ', Xtr.shape\n",
    "print 'Training labels shape: ', Ytr.shape\n",
    "print 'Test data shape: ', Xte.shape\n",
    "print 'Test labels shape: ', Yte.shape"
   ]
  },
  {
   "cell_type": "code",
   "execution_count": 3,
   "metadata": {
    "collapsed": false
   },
   "outputs": [
    {
     "name": "stdout",
     "output_type": "stream",
     "text": [
      "Key No. 1 is data\n",
      "Key No. 2 is labels\n",
      "Key No. 3 is batch_label\n",
      "Key No. 4 is filenames\n"
     ]
    }
   ],
   "source": [
    "# So, what do we get in this dictionary?\n",
    "key_num = 1\n",
    "for key in data_dict:\n",
    "    print('Key No. '+ str(key_num) + ' is ' + str(key))\n",
    "    key_num += 1"
   ]
  },
  {
   "cell_type": "code",
   "execution_count": 109,
   "metadata": {
    "collapsed": false
   },
   "outputs": [
    {
     "name": "stdout",
     "output_type": "stream",
     "text": [
      "The type of data is: <type 'numpy.ndarray'>\n",
      "The type of labels is: <type 'list'>\n",
      "The type of batch_labels is: <type 'str'>\n",
      "The type of filenames is: <type 'list'>\n"
     ]
    }
   ],
   "source": [
    "# Store the data in more meaningful labels\n",
    "\n",
    "data = data_dict['data']\n",
    "labels = data_dict['labels']\n",
    "batch_labels = data_dict['batch_label']\n",
    "filenames = data_dict['filenames']\n",
    "\n",
    "# Figure out what we are dealing with\n",
    "print('The type of data is: ' + str(type(data)))\n",
    "print(\"The type of labels is: \" + str(type(labels))) # this is a list, not an array\n",
    "print(\"The type of batch_labels is: \" + str(type(batch_labels))) # what is this string doing here?\n",
    "print(\"The type of filenames is: \" + str(type(filenames))) # this is a list, not an array"
   ]
  },
  {
   "cell_type": "code",
   "execution_count": 122,
   "metadata": {
    "collapsed": false
   },
   "outputs": [
    {
     "name": "stdout",
     "output_type": "stream",
     "text": [
      "The length of the data is: 3072\n",
      "The label is: 6\n",
      "The name of the file is: leptodactylus_pentadactylus_s_000004.png\n"
     ]
    },
    {
     "data": {
      "image/png": "[encoded data removed]",
      "text/plain": [
       "<matplotlib.figure.Figure at 0x11016a0d0>"
      ]
     },
     "metadata": {},
     "output_type": "display_data"
    },
    {
     "name": "stdout",
     "output_type": "stream",
     "text": [
      "The length of the data is: 3072\n",
      "The label is: 9\n",
      "The name of the file is: camion_s_000148.png\n"
     ]
    },
    {
     "data": {
      "image/png": "[encoded data removed]",
      "text/plain": [
       "<matplotlib.figure.Figure at 0x106aa6410>"
      ]
     },
     "metadata": {},
     "output_type": "display_data"
    }
   ],
   "source": [
    "#print the first example to have a look\n",
    "print('The length of the data is: ' + str(len(data[0])))\n",
    "print('The label is: ' + str(labels[0]))\n",
    "print('The name of the file is: ' + str(filenames[0]))\n",
    "\n",
    "image_idx0 = data[0].reshape(3,32,32).transpose(1,2,0)\n",
    "plt.imshow(image_idx0)\n",
    "plt.show()\n",
    "\n",
    "#what about the second one?\n",
    "print('The length of the data is: ' + str(len(data[1])))\n",
    "print('The label is: ' + str(labels[1]))\n",
    "print('The name of the file is: ' + str(filenames[1]))\n",
    "image_idx0 = data[1].reshape(3,32,32).transpose(1,2,0)\n",
    "plt.imshow(image_idx0)\n",
    "plt.show()"
   ]
  },
  {
   "cell_type": "code",
   "execution_count": 22,
   "metadata": {
    "collapsed": false
   },
   "outputs": [
    {
     "name": "stdout",
     "output_type": "stream",
     "text": [
      "(1000, 3072) (100, 3072)\n"
     ]
    }
   ],
   "source": [
    "# Now we train our KNN model with only a single nearest neighbor\n",
    "\n",
    "# Subsample the data for more efficient code execution in this exercise\n",
    "num_training = 1000\n",
    "mask = range(num_training)\n",
    "X_train = Xtr[mask]\n",
    "y_train = Ytr[mask]\n",
    "\n",
    "num_test = 100\n",
    "mask = range(num_test)\n",
    "X_test = Xte[mask]\n",
    "y_test = Yte[mask]\n",
    "\n",
    "# Reshape the image data into rows\n",
    "train_data = np.reshape(X_train, (X_train.shape[0], -1))\n",
    "test_data = np.reshape(X_test, (X_test.shape[0], -1))\n",
    "print train_data.shape, test_data.shape\n",
    "\n",
    "dists = np.zeros((num_test, num_training))\n",
    "\n",
    "for i in xrange(num_test):\n",
    "  for j in xrange(num_training):\n",
    "    \n",
    "    #####################################################################\n",
    "    # TODO:                                                             #\n",
    "    # Implement the L2 distance that we discusses in class by           #\n",
    "    # substituting the currently used L1 distance                       #\n",
    "    #####################################################################\n",
    "\n",
    "    dists[i,j] = np.sum(np.abs(train_data[j,:] - test_data[i,:]))\n",
    "\n",
    "\n",
    "  #######################################################################\n",
    "  #                         END OF YOUR CODE                            #\n",
    "  #######################################################################\n",
    "    \n",
    "y_pred = np.zeros(num_test)\n",
    "for i in xrange(num_test):\n",
    "\n",
    "  # sort the elements in the ith row in dists\n",
    "  dists_i_row_sorted=np.argsort(dists[i,:]) \n",
    "  # find the labels for the top k closes training points\n",
    "  closest_label = y_train[dists_i_row_sorted[:1]]   \n",
    "\n",
    "  y_pred[i]=closest_label"
   ]
  },
  {
   "cell_type": "code",
   "execution_count": 23,
   "metadata": {
    "collapsed": false
   },
   "outputs": [
    {
     "name": "stdout",
     "output_type": "stream",
     "text": [
      "(100,)\n",
      "(100,)\n",
      "30\n"
     ]
    }
   ],
   "source": [
    "print(y_pred.astype(int).shape)\n",
    "print(y_test.shape)\n",
    "\n",
    "print((sum(y_pred.astype(int) == y_test))*100 / num_test)\n",
    "\n"
   ]
  },
  {
   "cell_type": "code",
   "execution_count": null,
   "metadata": {
    "collapsed": true
   },
   "outputs": [],
   "source": [
    "    "
   ]
  }
 ],
 "metadata": {
  "kernelspec": {
   "display_name": "Python 2",
   "language": "python",
   "name": "python2"
  },
  "language_info": {
   "codemirror_mode": {
    "name": "ipython",
    "version": 2
   },
   "file_extension": ".py",
   "mimetype": "text/x-python",
   "name": "python",
   "nbconvert_exporter": "python",
   "pygments_lexer": "ipython2",
   "version": "2.7.11"
  }
 },
 "nbformat": 4,
 "nbformat_minor": 0
}
